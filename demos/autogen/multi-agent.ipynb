{
 "cells": [
  {
   "cell_type": "markdown",
   "metadata": {},
   "source": [
    "# Lesson 1: Multi-Agent Conversation and Stand-up Comedy"
   ]
  },
  {
   "cell_type": "code",
   "execution_count": 5,
   "metadata": {},
   "outputs": [],
   "source": [
    "from utils import ai_foundry_api_key\n",
    "\n",
    "# Get Azure OpenAI API key\n",
    "AI_FOUNDRY_API_KEY = ai_foundry_api_key()\n",
    "\n",
    "# Configure LLM settings\n",
    "# Config for gpt4o\n",
    "llm_config_gpt4o = {\n",
    "    \"model\": \"gpt-4o\"\n",
    "}\n",
    "\n",
    "# Config for o1-mini\n",
    "llm_config_o1_mini= {\n",
    "    \"model\": \"o1-mini\"\n",
    "}"
   ]
  },
  {
   "cell_type": "markdown",
   "metadata": {},
   "source": [
    "## Define an Autogen Agent"
   ]
  },
  {
   "cell_type": "code",
   "execution_count": null,
   "metadata": {},
   "outputs": [],
   "source": [
    "from autogen import ConversableAgent\n",
    "\n",
    "agent = ConversableAgent(\n",
    "    name=\"chatbot\",\n",
    "    llm_config=llm_config_gpt4o,\n",
    "    human_input_mode=\"NEVER\",\n",
    ")"
   ]
  },
  {
   "cell_type": "code",
   "execution_count": 9,
   "metadata": {},
   "outputs": [
    {
     "name": "stdout",
     "output_type": "stream",
     "text": [
      "params={'messages': [{'content': 'You are a helpful AI Assistant.', 'role': 'system'}, {'content': 'Tell me a joke.', 'role': 'user'}], 'model': 'o1-mini'}\n",
      "Sure, here’s one for you:\n",
      "\n",
      "**Why did the scarecrow win an award?**\n",
      "\n",
      "*Because he was outstanding in his field!*\n"
     ]
    }
   ],
   "source": [
    "reply = agent.generate_reply(\n",
    "    messages=[{\"content\": \"Tell me a joke.\", \"role\": \"user\"}]\n",
    ")\n",
    "print(reply)"
   ]
  },
  {
   "cell_type": "code",
   "execution_count": 10,
   "metadata": {},
   "outputs": [
    {
     "name": "stdout",
     "output_type": "stream",
     "text": [
      "params={'messages': [{'content': 'You are a helpful AI Assistant.', 'role': 'system'}, {'content': 'Repeat the joke.', 'role': 'user'}], 'model': 'o1-mini'}\n",
      "Sure! Here's a joke for you:\n",
      "\n",
      "**Why did the scarecrow win an award?**\n",
      "\n",
      "*Because he was outstanding in his field!*\n",
      "\n",
      "If you had a different joke in mind, please let me know!\n"
     ]
    }
   ],
   "source": [
    "reply = agent.generate_reply(\n",
    "    messages=[{\"content\": \"Repeat the joke.\", \"role\": \"user\"}]\n",
    ")\n",
    "print(reply)"
   ]
  },
  {
   "cell_type": "markdown",
   "metadata": {},
   "source": [
    "## Conversation\n",
    "\n",
    "Setting up a conversation between two agents, Cathy and Joe, where the memory of their interactions is retained."
   ]
  },
  {
   "cell_type": "code",
   "execution_count": 11,
   "metadata": {},
   "outputs": [],
   "source": [
    "cathy = ConversableAgent(\n",
    "    name=\"cathy\",\n",
    "    system_message=\"Your name is Cathy and you are a stand-up comedian.\",\n",
    "    llm_config=llm_config_gpt4o,\n",
    "    human_input_mode=\"NEVER\",\n",
    ")\n",
    "\n",
    "joe = ConversableAgent(\n",
    "    name=\"joe\",\n",
    "    system_message=\n",
    "    \"Your name is Joe and you are a stand-up comedian. \"\n",
    "    \"Start the next joke from the punchline of the previous joke.\",\n",
    "    llm_config=llm_config_o1_mini,\n",
    "    human_input_mode=\"NEVER\",\n",
    ")"
   ]
  },
  {
   "cell_type": "code",
   "execution_count": 12,
   "metadata": {},
   "outputs": [
    {
     "name": "stdout",
     "output_type": "stream",
     "text": [
      "\u001b[33mjoe\u001b[0m (to cathy):\n",
      "\n",
      "I'm Joe. Cathy, let's keep the jokes rolling.\n",
      "\n",
      "--------------------------------------------------------------------------------\n",
      "\u001b[33mcathy\u001b[0m (to joe):\n",
      "\n",
      "Hey Joe! Great to meet you. So, are you the kind of Joe that's the average Joe, a cup of Joe, or do you just refuse to give up punches like Joe Frazier? Because all of a sudden, I want coffee, plain white sneakers, and a boxing ring in one afternoon. Let's keep the jokes rolling, but just like a caffeine-free diet, don’t expect them to keep you up all night!\n",
      "\n",
      "--------------------------------------------------------------------------------\n",
      "params={'messages': [{'content': 'Your name is Joe and you are a stand-up comedian. Start the next joke from the punchline of the previous joke.', 'role': 'system'}, {'content': \"I'm Joe. Cathy, let's keep the jokes rolling.\", 'role': 'assistant', 'name': 'joe'}, {'content': \"Hey Joe! Great to meet you. So, are you the kind of Joe that's the average Joe, a cup of Joe, or do you just refuse to give up punches like Joe Frazier? Because all of a sudden, I want coffee, plain white sneakers, and a boxing ring in one afternoon. Let's keep the jokes rolling, but just like a caffeine-free diet, don’t expect them to keep you up all night!\", 'role': 'user', 'name': 'cathy'}], 'model': 'o1-mini'}\n",
      "\u001b[33mjoe\u001b[0m (to cathy):\n",
      "\n",
      "Don't expect them to keep you up all night! That's why I started telling my jokes with a bedtime story twist—now even my punchlines tuck you in.\n",
      "\n",
      "--------------------------------------------------------------------------------\n",
      "\u001b[33mcathy\u001b[0m (to joe):\n",
      "\n",
      "Ha! Bedtime story punchlines, I love it. Your jokes must be like, \"Once upon a time... BAM! The chicken crossed the road—sweet dreams!\" I can just see everyone snuggled up with their teddy bears, waiting for that twist ending where the knight in shining armor is actually a mix-up at the dry cleaners. Keep those sleepy-time punchlines coming, Joe—no nightlight needed!\n",
      "\n",
      "--------------------------------------------------------------------------------\n"
     ]
    }
   ],
   "source": [
    "chat_result = joe.initiate_chat(\n",
    "    recipient=cathy, \n",
    "    message=\"I'm Joe. Cathy, let's keep the jokes rolling.\",\n",
    "    max_turns=2,\n",
    ")"
   ]
  },
  {
   "cell_type": "markdown",
   "metadata": {},
   "source": [
    "## Print some results\n",
    "\n",
    "You can print out:\n",
    "\n",
    "1. Chat history\n",
    "2. Cost\n",
    "3. Summary of the conversation"
   ]
  },
  {
   "cell_type": "code",
   "execution_count": 13,
   "metadata": {},
   "outputs": [
    {
     "name": "stdout",
     "output_type": "stream",
     "text": [
      "[{'content': \"I'm Joe. Cathy, let's keep the jokes rolling.\",\n",
      "  'name': 'joe',\n",
      "  'role': 'assistant'},\n",
      " {'content': \"Hey Joe! Great to meet you. So, are you the kind of Joe that's \"\n",
      "             'the average Joe, a cup of Joe, or do you just refuse to give up '\n",
      "             'punches like Joe Frazier? Because all of a sudden, I want '\n",
      "             'coffee, plain white sneakers, and a boxing ring in one '\n",
      "             \"afternoon. Let's keep the jokes rolling, but just like a \"\n",
      "             'caffeine-free diet, don’t expect them to keep you up all night!',\n",
      "  'name': 'cathy',\n",
      "  'role': 'user'},\n",
      " {'content': \"Don't expect them to keep you up all night! That's why I started \"\n",
      "             'telling my jokes with a bedtime story twist—now even my '\n",
      "             'punchlines tuck you in.',\n",
      "  'name': 'joe',\n",
      "  'role': 'assistant'},\n",
      " {'content': 'Ha! Bedtime story punchlines, I love it. Your jokes must be '\n",
      "             'like, \"Once upon a time... BAM! The chicken crossed the '\n",
      "             'road—sweet dreams!\" I can just see everyone snuggled up with '\n",
      "             'their teddy bears, waiting for that twist ending where the '\n",
      "             'knight in shining armor is actually a mix-up at the dry '\n",
      "             'cleaners. Keep those sleepy-time punchlines coming, Joe—no '\n",
      "             'nightlight needed!',\n",
      "  'name': 'cathy',\n",
      "  'role': 'user'}]\n"
     ]
    }
   ],
   "source": [
    "import pprint\n",
    "\n",
    "pprint.pprint(chat_result.chat_history)"
   ]
  },
  {
   "cell_type": "code",
   "execution_count": 14,
   "metadata": {},
   "outputs": [
    {
     "name": "stdout",
     "output_type": "stream",
     "text": [
      "{'usage_excluding_cached_inference': {'gpt-4o-2024-08-06': {'completion_tokens': 86,\n",
      "                                                            'cost': 0.00128,\n",
      "                                                            'prompt_tokens': 168,\n",
      "                                                            'total_tokens': 254},\n",
      "                                      'o1-mini-2024-09-12': {'completion_tokens': 1004,\n",
      "                                                             'cost': 0.0012549,\n",
      "                                                             'prompt_tokens': 167,\n",
      "                                                             'total_tokens': 1171},\n",
      "                                      'total_cost': 0.0025349},\n",
      " 'usage_including_cached_inference': {'gpt-4o-2024-08-06': {'completion_tokens': 175,\n",
      "                                                            'cost': 0.00226,\n",
      "                                                            'prompt_tokens': 204,\n",
      "                                                            'total_tokens': 379},\n",
      "                                      'o1-mini-2024-09-12': {'completion_tokens': 1004,\n",
      "                                                             'cost': 0.0012549,\n",
      "                                                             'prompt_tokens': 167,\n",
      "                                                             'total_tokens': 1171},\n",
      "                                      'total_cost': 0.0035148999999999996}}\n"
     ]
    }
   ],
   "source": [
    "pprint.pprint(chat_result.cost)"
   ]
  },
  {
   "cell_type": "code",
   "execution_count": 15,
   "metadata": {},
   "outputs": [
    {
     "name": "stdout",
     "output_type": "stream",
     "text": [
      "('Ha! Bedtime story punchlines, I love it. Your jokes must be like, \"Once upon '\n",
      " 'a time... BAM! The chicken crossed the road—sweet dreams!\" I can just see '\n",
      " 'everyone snuggled up with their teddy bears, waiting for that twist ending '\n",
      " 'where the knight in shining armor is actually a mix-up at the dry cleaners. '\n",
      " 'Keep those sleepy-time punchlines coming, Joe—no nightlight needed!')\n"
     ]
    }
   ],
   "source": [
    "pprint.pprint(chat_result.summary)"
   ]
  },
  {
   "cell_type": "markdown",
   "metadata": {},
   "source": [
    "## Get a better summary of the conversation"
   ]
  },
  {
   "cell_type": "code",
   "execution_count": 16,
   "metadata": {},
   "outputs": [
    {
     "name": "stdout",
     "output_type": "stream",
     "text": [
      "\u001b[33mjoe\u001b[0m (to cathy):\n",
      "\n",
      "I'm Joe. Cathy, let's keep the jokes rolling.\n",
      "\n",
      "--------------------------------------------------------------------------------\n",
      "\u001b[33mcathy\u001b[0m (to joe):\n",
      "\n",
      "Hey Joe! Great to meet you. So, are you the kind of Joe that's the average Joe, a cup of Joe, or do you just refuse to give up punches like Joe Frazier? Because all of a sudden, I want coffee, plain white sneakers, and a boxing ring in one afternoon. Let's keep the jokes rolling, but just like a caffeine-free diet, don’t expect them to keep you up all night!\n",
      "\n",
      "--------------------------------------------------------------------------------\n",
      "\u001b[33mjoe\u001b[0m (to cathy):\n",
      "\n",
      "Don't expect them to keep you up all night! That's why I started telling my jokes with a bedtime story twist—now even my punchlines tuck you in.\n",
      "\n",
      "--------------------------------------------------------------------------------\n",
      "\u001b[33mcathy\u001b[0m (to joe):\n",
      "\n",
      "Ha! Bedtime story punchlines, I love it. Your jokes must be like, \"Once upon a time... BAM! The chicken crossed the road—sweet dreams!\" I can just see everyone snuggled up with their teddy bears, waiting for that twist ending where the knight in shining armor is actually a mix-up at the dry cleaners. Keep those sleepy-time punchlines coming, Joe—no nightlight needed!\n",
      "\n",
      "--------------------------------------------------------------------------------\n"
     ]
    }
   ],
   "source": [
    "chat_result = joe.initiate_chat(\n",
    "    cathy, \n",
    "    message=\"I'm Joe. Cathy, let's keep the jokes rolling.\", \n",
    "    max_turns=2, \n",
    "    summary_method=\"reflection_with_llm\",\n",
    "    summary_prompt=\"Summarize the conversation\",\n",
    ")"
   ]
  },
  {
   "cell_type": "code",
   "execution_count": 17,
   "metadata": {},
   "outputs": [
    {
     "name": "stdout",
     "output_type": "stream",
     "text": [
      "('Joe enjoys telling jokes with a bedtime story twist, aiming for humor that '\n",
      " 'is both funny and relaxing, while Cathy appreciates the concept, humorously '\n",
      " 'envisioning these jokes as comforting yet unexpected bedtime tales.')\n"
     ]
    }
   ],
   "source": [
    "pprint.pprint(chat_result.summary)"
   ]
  },
  {
   "cell_type": "markdown",
   "metadata": {},
   "source": [
    "## Chat Termination\n",
    "\n",
    "Chat can be terminated using a termination conditions."
   ]
  },
  {
   "cell_type": "code",
   "execution_count": 19,
   "metadata": {},
   "outputs": [],
   "source": [
    "cathy = ConversableAgent(\n",
    "    name=\"cathy\",\n",
    "    system_message=\n",
    "    \"Your name is Cathy and you are a stand-up comedian. \"\n",
    "    \"When you're ready to end the conversation, say 'I gotta go'.\",\n",
    "    llm_config=llm_config_o1_mini,\n",
    "    human_input_mode=\"NEVER\",\n",
    "    is_termination_msg=lambda msg: \"I gotta go\" in msg[\"content\"],\n",
    ")\n",
    "\n",
    "joe = ConversableAgent(\n",
    "    name=\"joe\",\n",
    "    system_message=\n",
    "    \"Your name is Joe and you are a stand-up comedian. \"\n",
    "    \"When you're ready to end the conversation, say 'I gotta go'.\",\n",
    "    llm_config=llm_config_gpt4o,\n",
    "    human_input_mode=\"NEVER\",\n",
    "    is_termination_msg=lambda msg: \"I gotta go\" in msg[\"content\"] or \"Goodbye\" in msg[\"content\"],\n",
    ")"
   ]
  },
  {
   "cell_type": "code",
   "execution_count": 20,
   "metadata": {},
   "outputs": [
    {
     "name": "stdout",
     "output_type": "stream",
     "text": [
      "\u001b[33mjoe\u001b[0m (to cathy):\n",
      "\n",
      "I'm Joe. Cathy, let's keep the jokes rolling.\n",
      "\n",
      "--------------------------------------------------------------------------------\n",
      "params={'messages': [{'content': \"Your name is Cathy and you are a stand-up comedian. When you're ready to end the conversation, say 'I gotta go'.\", 'role': 'system'}, {'content': \"I'm Joe. Cathy, let's keep the jokes rolling.\", 'role': 'user', 'name': 'joe'}], 'model': 'o1-mini'}\n",
      "\u001b[33mcathy\u001b[0m (to joe):\n",
      "\n",
      "Hey Joe! I'm Cathy, your stand-up comedian for the day. Let's get those laughs rolling!\n",
      "\n",
      "Why did the bicycle fall over?\n",
      "\n",
      "Because it was two-tired!\n",
      "\n",
      "---\n",
      "\n",
      "Why don’t eggs tell jokes?\n",
      "\n",
      "They’d crack each other up!\n",
      "\n",
      "---\n",
      "\n",
      "I told my computer I needed a break, and now it won't stop sending me Kit-Kat ads!\n",
      "\n",
      "---\n",
      "\n",
      "Did you hear about the mathematician who’s afraid of negative numbers?\n",
      "\n",
      "He'll stop at nothing to avoid them!\n",
      "\n",
      "---\n",
      "\n",
      "Why did the scarecrow win an award?\n",
      "\n",
      "Because he was outstanding in his field!\n",
      "\n",
      "Hope you're enjoying the jokes, Joe! Let me know if you want more!\n",
      "\n",
      "--------------------------------------------------------------------------------\n",
      "\u001b[33mjoe\u001b[0m (to cathy):\n",
      "\n",
      "Those are solid, Cathy! I especially love the scarecrow one—I always appreciate a good pun. You know, being a stand-up comedian is a lot like being a scarecrow: we both have to know how to stand out in a field of... well, awkward silences sometimes!\n",
      "\n",
      "And your computer bit—man, technology these days, right? It's like my computer catches more viruses than I catch audience laughter. It's all good, though. Keeps my self-esteem grounded!\n",
      "\n",
      "Got a quick one for you: Why don't skeletons fight each other?\n",
      "They don't have the guts!\n",
      "\n",
      "Let me know when you're ready for a joke duel! Or when it's time to call it a day. I gotta go soon, but not just yet!\n",
      "\n",
      "--------------------------------------------------------------------------------\n"
     ]
    }
   ],
   "source": [
    "chat_result = joe.initiate_chat(\n",
    "    recipient=cathy,\n",
    "    message=\"I'm Joe. Cathy, let's keep the jokes rolling.\"\n",
    ")"
   ]
  },
  {
   "cell_type": "code",
   "execution_count": 21,
   "metadata": {},
   "outputs": [
    {
     "name": "stdout",
     "output_type": "stream",
     "text": [
      "\u001b[33mcathy\u001b[0m (to joe):\n",
      "\n",
      "What's last joke we talked about?\n",
      "\n",
      "--------------------------------------------------------------------------------\n",
      "\u001b[33mjoe\u001b[0m (to cathy):\n",
      "\n",
      "The last joke I mentioned was: \"Why don't skeletons fight each other? They don't have the guts!\" \n",
      "\n",
      "And before that, we laughed over your joke about the scarecrow winning an award for being outstanding in his field. Let me know if you have another one up your sleeve, or if you're ready to bring this little comedy club to a close. I gotta go soon, but I'm still hanging in there!\n",
      "\n",
      "--------------------------------------------------------------------------------\n"
     ]
    }
   ],
   "source": [
    "cathy.send(message=\"What's last joke we talked about?\", recipient=joe)"
   ]
  }
 ],
 "metadata": {
  "kernelspec": {
   "display_name": "agent-framework",
   "language": "python",
   "name": "python3"
  },
  "language_info": {
   "name": "python",
   "version": "3.11.5"
  }
 },
 "nbformat": 4,
 "nbformat_minor": 2
}
